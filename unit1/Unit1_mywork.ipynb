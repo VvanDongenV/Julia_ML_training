{
 "cells": [
  {
   "cell_type": "code",
   "execution_count": 1,
   "id": "0d56a74a-3bb6-43c8-ac59-3831af40eaa3",
   "metadata": {},
   "outputs": [],
   "source": [
    "using Pkg"
   ]
  },
  {
   "cell_type": "code",
   "execution_count": 2,
   "id": "48920402-4ef4-4fa6-b81d-bba065bb95dc",
   "metadata": {},
   "outputs": [
    {
     "name": "stderr",
     "output_type": "stream",
     "text": [
      "\u001b[32m\u001b[1m  Activating\u001b[22m\u001b[39m project at `C:\\Users\\vvandong\\Desktop\\PYTHON\\JULIA\\mydirectory\\Julia_ML_training\\unit1`\n"
     ]
    }
   ],
   "source": [
    "Pkg.activate(\".\")"
   ]
  },
  {
   "cell_type": "code",
   "execution_count": 3,
   "id": "fdf12863-92d0-4df0-9174-8856b03b82d2",
   "metadata": {},
   "outputs": [
    {
     "name": "stdout",
     "output_type": "stream",
     "text": [
      "Found maximal value: 0.9972781130627076\n"
     ]
    }
   ],
   "source": [
    "using Random\n",
    "\n",
    "function find_max(data)\n",
    "    max_value = -Inf\n",
    "    for x ∈ data # You can type ∈ by typing \\in + [TAB]. Could have just used `in` as well\n",
    "        if x > max_value\n",
    "            max_value = x\n",
    "        end\n",
    "    end\n",
    "    return max_value\n",
    "end\n",
    "\n",
    "# by convention, an exclamation mark (!) means that the function mutates objects in-place, in this case, `seed!` mutates the state of the random number generator\n",
    "Random.seed!(0)\n",
    "data = rand(100)\n",
    "max_value = find_max(data)\n",
    "println(\"Found maximal value: $(max_value)\")"
   ]
  },
  {
   "cell_type": "code",
   "execution_count": null,
   "id": "5bb25916-b2d6-4f25-9f89-c0f6c648df99",
   "metadata": {},
   "outputs": [],
   "source": []
  }
 ],
 "metadata": {
  "kernelspec": {
   "display_name": "Julia 1.11.5",
   "language": "julia",
   "name": "julia-1.11"
  },
  "language_info": {
   "file_extension": ".jl",
   "mimetype": "application/julia",
   "name": "julia",
   "version": "1.11.5"
  }
 },
 "nbformat": 4,
 "nbformat_minor": 5
}
