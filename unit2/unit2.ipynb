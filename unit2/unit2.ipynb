{
 "cells": [
  {
   "cell_type": "code",
   "execution_count": 1,
   "metadata": {},
   "outputs": [
    {
     "name": "stderr",
     "output_type": "stream",
     "text": [
      "\u001b[32m\u001b[1m  Activating\u001b[22m\u001b[39m project at `~/Julia_ML_training/unit2`\n"
     ]
    }
   ],
   "source": [
    "using Pkg; Pkg.activate(@__DIR__)\n",
    "# Pkg.instantiate()"
   ]
  },
  {
   "cell_type": "markdown",
   "metadata": {},
   "source": [
    "---\n",
    "title: \"Unit 2 - Processing Data\"\n",
    "engine: julia\n",
    "jupyter: julia-two-1.11\n",
    "---\n",
    "\n",
    "In this unit we focus on **data**. We start by considering basic Julia data structures including dictionaries, sets, named tuples, and others. We then then focus on basic text (string) processing in Julia. Then we move onto Dataframes - a general and useful way to keep tabular data. We then touch on JSON files, and serialization.\n",
    "\n",
    "# Basic data structures\n",
    "\n",
    "Beyond [arrays](https://docs.julialang.org/en/v1/base/arrays/) which are very important and include `Vector` and `Matrix`, here are some basic data structures in Julia:\n",
    "\n",
    "## Dictionaries\n",
    "\n",
    "*See [Dictionaries in the Julia docs](https://docs.julialang.org/en/v1/base/collections/#Dictionaries).*\n",
    "\n",
    "Dictionaries (often called hash maps or associative arrays) store key-value pairs. Each key in a dictionary must be unique. They are incredibly useful for many purposes because their looking up values quickly based on a unique identifier. In particular, well designed hash maps are implemented with lookup (get value by key), insertion (insert value to key), and deletion (remove value by key) operations taking average $O(1)$ (constant) time^[\"Constant time\" suffices in practice, there is minutiae and worst case is $O(n)$ which is bad -- for theoretical applications, they can be implemented in $O(\\log n)$ worst case time with self-balancing trees, but all practical applications rely on constant time average and engineering tricks to avoid the linear time worst case.]. This makes them very popular both for their simplicity but also to speed up algorithms with smart tricks (like reverse indeces built in hash maps)."
   ]
  },
  {
   "cell_type": "code",
   "execution_count": 3,
   "metadata": {},
   "outputs": [
    {
     "data": {
      "text/plain": [
       "Dict{Any, Any}()"
      ]
     },
     "execution_count": 3,
     "metadata": {},
     "output_type": "execute_result"
    }
   ],
   "source": [
    "d = Dict()"
   ]
  },
  {
   "cell_type": "code",
   "execution_count": null,
   "metadata": {},
   "outputs": [],
   "source": [
    "d["
   ]
  },
  {
   "cell_type": "code",
   "execution_count": 4,
   "metadata": {},
   "outputs": [
    {
     "data": {
      "text/plain": [
       "5634000"
      ]
     },
     "execution_count": 4,
     "metadata": {},
     "output_type": "execute_result"
    }
   ],
   "source": [
    "pop = Dict()\n",
    "pop[\"Australia\"] = 27_864_000\n",
    "pop[\"United States\"] = 340_111_000\n",
    "pop[\"Finland\"] = 5_634_000"
   ]
  },
  {
   "cell_type": "code",
   "execution_count": 5,
   "metadata": {},
   "outputs": [
    {
     "data": {
      "text/plain": [
       "Dict{Any, Any} with 3 entries:\n",
       "  \"United States\" => 340111000\n",
       "  \"Finland\"       => 5634000\n",
       "  \"Australia\"     => 27864000"
      ]
     },
     "execution_count": 5,
     "metadata": {},
     "output_type": "execute_result"
    }
   ],
   "source": [
    "pop"
   ]
  },
  {
   "cell_type": "code",
   "execution_count": 7,
   "metadata": {},
   "outputs": [
    {
     "data": {
      "text/plain": [
       "\"Australia\" => 27000000"
      ]
     },
     "execution_count": 7,
     "metadata": {},
     "output_type": "execute_result"
    }
   ],
   "source": [
    "my_pair = \"Australia\" => 27_000_000"
   ]
  },
  {
   "cell_type": "code",
   "execution_count": 8,
   "metadata": {},
   "outputs": [
    {
     "data": {
      "text/plain": [
       "Pair{String, Int64}"
      ]
     },
     "execution_count": 8,
     "metadata": {},
     "output_type": "execute_result"
    }
   ],
   "source": [
    "typeof(my_pair)"
   ]
  },
  {
   "cell_type": "code",
   "execution_count": 9,
   "metadata": {},
   "outputs": [
    {
     "data": {
      "text/plain": [
       "\"Australia\""
      ]
     },
     "execution_count": 9,
     "metadata": {},
     "output_type": "execute_result"
    }
   ],
   "source": [
    "my_pair.first"
   ]
  },
  {
   "cell_type": "code",
   "execution_count": 10,
   "metadata": {},
   "outputs": [
    {
     "data": {
      "text/plain": [
       "27000000"
      ]
     },
     "execution_count": 10,
     "metadata": {},
     "output_type": "execute_result"
    }
   ],
   "source": [
    "my_pair.second"
   ]
  },
  {
   "cell_type": "code",
   "execution_count": 6,
   "metadata": {},
   "outputs": [
    {
     "data": {
      "text/plain": [
       "Dict{String, Int64} with 2 entries:\n",
       "  \"United States\" => 340000000\n",
       "  \"Australia\"     => 27000000"
      ]
     },
     "execution_count": 6,
     "metadata": {},
     "output_type": "execute_result"
    }
   ],
   "source": [
    "Dict([\"Australia\" => 27_000_000, \"United States\" => 340_000_000])"
   ]
  },
  {
   "cell_type": "markdown",
   "metadata": {},
   "source": [
    "Infer its type:"
   ]
  },
  {
   "cell_type": "code",
   "execution_count": null,
   "metadata": {},
   "outputs": [],
   "source": [
    "@show typeof(pop)"
   ]
  },
  {
   "cell_type": "markdown",
   "metadata": {},
   "source": [
    "We can restrict the types:"
   ]
  },
  {
   "cell_type": "code",
   "execution_count": null,
   "metadata": {},
   "outputs": [],
   "source": [
    "strict_pop = Dict{String,Int}()\n",
    "strict_pop[\"Australia\"] = 27_864_000\n",
    "strict_pop[\"United States\"] = 340_111_000\n",
    "strict_pop[\"Finland\"] = 5_634_000\n",
    "\n",
    "strict_pop"
   ]
  },
  {
   "cell_type": "code",
   "execution_count": null,
   "metadata": {},
   "outputs": [],
   "source": [
    "# this is okay\n",
    "pop[\"North Pole\"] = 0.5\n",
    "# not okay\n",
    "strict_pop[\"North Pole\"] = 0.5"
   ]
  },
  {
   "cell_type": "markdown",
   "metadata": {},
   "source": [
    "Checking and accessing dictionary values:"
   ]
  },
  {
   "cell_type": "code",
   "execution_count": null,
   "metadata": {},
   "outputs": [],
   "source": [
    "# Accessing a value\n",
    "population_australia = pop[\"Australia\"]\n",
    "println(\"Population of Australia: \", population_australia)\n",
    "\n",
    "mars_pop_safe = get(pop, \"Mars\", nothing)"
   ]
  },
  {
   "cell_type": "markdown",
   "metadata": {},
   "source": [
    "Use `haskey` to check if the key exists:"
   ]
  },
  {
   "cell_type": "code",
   "execution_count": null,
   "metadata": {},
   "outputs": [],
   "source": [
    "if haskey(pop, \"United States\")\n",
    "    println(\"United States population exists: \", pop[\"United States\"])\n",
    "end\n",
    "\n",
    "if !haskey(pop, \"Atlantis\")\n",
    "    println(\"Atlantis population does not exist.\")\n",
    "end"
   ]
  },
  {
   "cell_type": "markdown",
   "metadata": {},
   "source": [
    "More useful operations:\n",
    "\n",
    "* `keys()`: Returns an iterable collection of all keys in the dictionary.\n",
    "* `values()`: Returns an iterable collection of all values in the dictionary.\n",
    "* `pairs()`: Returns an iterable collection of `Pair` objects (key => value) for all entries.\n",
    "* `length()`: Returns the number of key-value pairs in the dictionary.\n",
    "* `empty!()`: Removes all key-value pairs from the dictionary.\n"
   ]
  },
  {
   "cell_type": "code",
   "execution_count": null,
   "metadata": {},
   "outputs": [],
   "source": [
    "println()\n",
    "println(\"Keys in pop: \", keys(pop))\n",
    "println(\"Values in pop: \", values(pop))\n",
    "println(\"Pairs in pop: \", pairs(pop))\n",
    "println(\"Number of entries in pop: \", length(pop))\n",
    "\n",
    "# Iterating through a dictionary\n",
    "println()\n",
    "println(\"Iterating through pop:\")\n",
    "for (country, population) in pop\n",
    "    println(\"$country: $population\")\n",
    "end\n",
    "\n",
    "# Create a dictionary using the Dict constructor with pairs\n",
    "new_countries = Dict(\"Canada\" => 38_000_000, \"Mexico\" => 126_000_000)\n",
    "println()\n",
    "println(\"New countries dictionary: \", new_countries)\n",
    "\n",
    "# Note that `=>` constructs a pair:\n",
    "typeof(:s => 2)\n",
    "\n",
    "# Merging dictionaries (creates a new dictionary)\n",
    "merged_pop = merge(pop, new_countries)\n",
    "println(\"Merged population dictionary: \", merged_pop)\n",
    "\n",
    "# In-place merge (modifies the first dictionary)\n",
    "merge!(pop, new_countries)\n",
    "println(\"Pop after in-place merge: \", pop)\n",
    "\n",
    "# Clearing a dictionary\n",
    "empty!(pop)\n",
    "println(\"Pop after empty!: \", pop)"
   ]
  },
  {
   "cell_type": "markdown",
   "metadata": {},
   "source": [
    "## Sets\n",
    "\n",
    "See [Set-Like Collections in the Julia docs](https://docs.julialang.org/en/v1/base/collections/#Set-Like-Collections). Here are some examples."
   ]
  },
  {
   "cell_type": "code",
   "execution_count": null,
   "metadata": {},
   "outputs": [],
   "source": [
    "A = Set([2,7,2,3])\n",
    "B = Set(1:6)\n",
    "omega = Set(1:10)\n",
    "\n",
    "AunionB = union(A, B)\n",
    "AintersectionB = intersect(A, B)\n",
    "BdifferenceA = setdiff(B,A)\n",
    "Bcomplement = setdiff(omega,B)\n",
    "AsymDifferenceB = union(setdiff(A,B),setdiff(B,A))\n",
    "println(\"A = $A, B = $B\")\n",
    "println(\"A union B = $AunionB\")\n",
    "println(\"A intersection B = $AintersectionB\")\n",
    "println(\"B diff A = $BdifferenceA\")\n",
    "println(\"B complement = $Bcomplement\")\n",
    "println(\"A symDifference B = $AsymDifferenceB\")\n",
    "println(\"The element '6' is an element of A: $(in(6,A))\")\n",
    "println(\"Symmetric difference and intersection are subsets of the union: \",\n",
    "        issubset(AsymDifferenceB,AunionB),\", \", issubset(AintersectionB,AunionB))"
   ]
  },
  {
   "cell_type": "markdown",
   "metadata": {},
   "source": [
    "Internally, sets are a thin wrapper around dictionaries with no values:\n",
    "\n",
    "```julia\n",
    "# base/set.jl\n",
    "struct Set{T} <: AbstractSet{T}\n",
    "    dict::Dict{T,Nothing}\n",
    "\n",
    "    global _Set(dict::Dict{T,Nothing}) where {T} = new{T}(dict)\n",
    "end\n",
    "```\n",
    "\n",
    "## Named tuples\n",
    "\n",
    "In addition to tuples (see [docs](https://docs.julialang.org/en/v1/manual/types/#Tuple-Types)), Julia has [named tuples](https://docs.julialang.org/en/v1/manual/types/#Named-Tuple-Types). Here are some examples:\n"
   ]
  },
  {
   "cell_type": "code",
   "execution_count": null,
   "metadata": {},
   "outputs": [],
   "source": [
    "my_stuff = (age=28, gender=:male, name=\"Aapeli\")\n",
    "yonis_stuff = (age=51, gender=:male, name=\"Yoni\")\n",
    "\n",
    "my_stuff.gender"
   ]
  },
  {
   "cell_type": "markdown",
   "metadata": {},
   "source": [
    "Named tuples are also used as [keyword arguments](https://docs.julialang.org/en/v1/manual/functions/#Keyword-Arguments)."
   ]
  },
  {
   "cell_type": "code",
   "execution_count": null,
   "metadata": {},
   "outputs": [],
   "source": [
    "function my_function_kwargs(; keyword_arg1=default_value1, keyword_arg2=default_value2)\n",
    "    println(\"Keyword 1: $keyword_arg1\")\n",
    "    println(\"Keyword 2: $keyword_arg2\")\n",
    "end\n",
    "\n",
    "todays_args = (keyword_arg1=\"hello!\", keyword_arg2=\"nothing\")\n",
    "my_function_kwargs(; todays_args...)"
   ]
  },
  {
   "cell_type": "markdown",
   "metadata": {},
   "source": [
    "An example with Plots:"
   ]
  },
  {
   "cell_type": "code",
   "execution_count": null,
   "metadata": {},
   "outputs": [],
   "source": [
    "using Plots\n",
    "using LaTeXStrings\n",
    "\n",
    "# we can use named tuples to pass in keyword arguments\n",
    "args = (label=false, xlim=(-1,1), xlabel=L\"x\")\n",
    "# `...` is the \"splat\" operator, similar to `**args` in python\n",
    "p1 = plot(x->sin(1/x); ylabel=L\"\\sin(\\frac{1}{x})\", args...)\n",
    "p2 = plot(x->cos(1/x); ylabel=L\"\\cos(\\frac{1}{x})\", args...)\n",
    "plot(p1, p2, size=(700,300))"
   ]
  },
  {
   "cell_type": "markdown",
   "metadata": {},
   "source": [
    "## Structs (Composite Types)\n",
    "\n",
    "You can obviously define your own types [see composite types in docs](https://docs.julialang.org/en/v1/manual/types/#Composite-Types). You can use `struct` which is by default immutable, or `mutable struct`. In terms of memory management, immutable types sit on the stack while mutable types sit on the heap and require allocations and garbage collection."
   ]
  },
  {
   "cell_type": "code",
   "execution_count": null,
   "metadata": {},
   "outputs": [],
   "source": [
    "struct Place\n",
    "  name::String\n",
    "  lon::Float64\n",
    "  lat::Float64\n",
    "end"
   ]
  },
  {
   "cell_type": "code",
   "execution_count": null,
   "metadata": {},
   "outputs": [],
   "source": [
    "# Constructing Place instances\n",
    "new_york = Place(\"New York\", -74.0060, 40.7128)\n",
    "brisbane = Place(\"Brisbane\", 153.0251, -27.4698)\n",
    "townsville = Place(\"Townsville\", 146.8169, -19.2581)\n",
    "\n",
    "println(new_york)\n",
    "println(brisbane)\n",
    "println(townsville)\n",
    "\n",
    "# access fields\n",
    "println(\"Latitude of new_york: \", new_york.lat)"
   ]
  },
  {
   "cell_type": "markdown",
   "metadata": {},
   "source": [
    "We can also have constructors with logic"
   ]
  },
  {
   "cell_type": "code",
   "execution_count": null,
   "metadata": {},
   "outputs": [],
   "source": [
    "\"\"\"\n",
    "A fancier place that wraps longitude automatically\n",
    "\"\"\"\n",
    "struct FancyPlace\n",
    "  name::String\n",
    "  lon::Float64\n",
    "  lat::Float64\n",
    "\n",
    "  # Default constructor (provided automatically if no inner constructors are defined)\n",
    "  function FancyPlace(name::String, lon::Float64, lat::Float64)\n",
    "    # make sure longitude is in [-180,180)\n",
    "    wrapped_lon = mod(lon + 180, 360) - 180\n",
    "    # new is a special keyword used to create the actual struct instance\n",
    "    # It takes the values for the fields in the order they are defined in\n",
    "    # the struct, effectively calling the \"primary\" constructor\n",
    "    new(name, wrapped_lon, lat)\n",
    "  end\n",
    "\n",
    "  # Custom constructor for an \"unnamed\" place\n",
    "  FancyPlace(lon::Float64, lat::Float64) = FancyPlace(\"[unnamed]\", lon, lat) # The `new` keyword calls the primary constructor\n",
    "end\n",
    "\n",
    "# Now we can use the new constructor\n",
    "unnamed_location = FancyPlace(1000.0, 20.0)\n",
    "println(\"\\nUnnamed location: \", unnamed_location)\n",
    "println(\"Name of unnamed_location: \", unnamed_location.name)"
   ]
  },
  {
   "cell_type": "markdown",
   "metadata": {},
   "source": [
    "We can add additional \"outer\" constructors, but they cannot call `new` directly. For example, suppose you use a GIS package with your own coordinates"
   ]
  },
  {
   "cell_type": "code",
   "execution_count": null,
   "metadata": {},
   "outputs": [],
   "source": [
    "struct WGS84Coordinates{T}\n",
    "  x::T\n",
    "  y::T\n",
    "end\n",
    "\n",
    "function FancyPlace(name::String, coords::WGS84Coordinates)\n",
    "    return FancyPlace(name, Float64(coords.x), Float64(coords.y))\n",
    "end\n",
    "\n",
    "zero_coords = WGS84Coordinates{Float32}(142.2, 11.35)\n",
    "mariana_trench = FancyPlace(\"Mariana Trench\", zero_coords)\n",
    "\n",
    "@show mariana_trench"
   ]
  },
  {
   "cell_type": "markdown",
   "metadata": {},
   "source": [
    "The [Parameters.jl](https://github.com/mauro3/Parameters.jl) package extends the functionality by automatically creating keyword based constructors for struct beyond the default constructors."
   ]
  },
  {
   "cell_type": "code",
   "execution_count": null,
   "metadata": {},
   "outputs": [],
   "source": [
    "using Parameters\n",
    "\n",
    "@with_kw struct MyStruct\n",
    "    a::Int = 6\n",
    "    b::Float64 = -1.1\n",
    "    c::UInt8\n",
    "end\n",
    "\n",
    "MyStruct(c=4) # call to the constructor created with the @with_kw with a keyword argument"
   ]
  },
  {
   "cell_type": "markdown",
   "metadata": {},
   "source": [
    "Another useful macro based modification of the language is with the [Accessors.jl](https://github.com/JuliaObjects/Accessors.jl) package. It allows to update values of structs (immutable) easily by creating a copy without having to copy all other values:"
   ]
  },
  {
   "cell_type": "code",
   "execution_count": null,
   "metadata": {},
   "outputs": [],
   "source": [
    "using Accessors\n",
    "\n",
    "a = MyStruct(a=10, c=4)\n",
    "@show a\n",
    "\n",
    "b = @set a.c = 0\n",
    "@show b;\n",
    "\n",
    "# but observe a is still untouched\n",
    "@show a"
   ]
  },
  {
   "cell_type": "markdown",
   "metadata": {},
   "source": [
    "## Datastructures (not in the standard library)\n",
    "\n",
    "The [JuliaCollections](https://github.com/JuliaCollections) library provides other data structures. One useful package is [DataStructures.jl](https://github.com/JuliaCollections/DataStructures.jl). Let's use for example a heap for [heap sort](https://en.wikipedia.org/wiki/Heapsort) (note that this is only for illustrative purposes. The system's [sort](https://docs.julialang.org/en/v1/base/sort/) will be more efficient).\n"
   ]
  },
  {
   "cell_type": "code",
   "execution_count": null,
   "metadata": {},
   "outputs": [],
   "source": [
    "using Random, DataStructures\n",
    "Random.seed!(0)\n",
    "\n",
    "function heap_sort!(a::AbstractArray)\n",
    "    h = BinaryMinHeap{eltype(a)}()\n",
    "    for e in a\n",
    "        push!(h, e) #This is an O(log n) operation\n",
    "    end\n",
    "\n",
    "    #Write back onto the original array\n",
    "    for i in 1:length(a)\n",
    "        a[i] = pop!(h) #This is an O(log n) operation\n",
    "    end\n",
    "    return a\n",
    "end\n",
    "\n",
    "data = [65, 51, 32, 12, 23, 84, 68, 1]\n",
    "heap_sort!(data)\n",
    "@show data\n",
    "@show heap_sort!([\"Finland\", \"USA\", \"Australia\", \"Brazil\"]);"
   ]
  },
  {
   "cell_type": "markdown",
   "metadata": {},
   "source": [
    "Again, note that this is a bunch slower than the standard lib sort:"
   ]
  },
  {
   "cell_type": "code",
   "execution_count": null,
   "metadata": {},
   "outputs": [],
   "source": [
    "using BenchmarkTools\n",
    "\n",
    "numbers = rand(10_000);"
   ]
  },
  {
   "cell_type": "code",
   "execution_count": null,
   "metadata": {},
   "outputs": [],
   "source": [
    "@benchmark sort!(numbers)"
   ]
  },
  {
   "cell_type": "code",
   "execution_count": null,
   "metadata": {},
   "outputs": [],
   "source": [
    "@benchmark heap_sort!(numbers)"
   ]
  },
  {
   "cell_type": "markdown",
   "metadata": {},
   "source": [
    "# Basic text processing\n",
    "\n",
    "Here are [strings in the julia docs](https://docs.julialang.org/en/v1/manual/strings/). Let's see some examples:"
   ]
  },
  {
   "cell_type": "code",
   "execution_count": null,
   "metadata": {},
   "outputs": [],
   "source": [
    "x = 2\n",
    "\"The value of x is $x\""
   ]
  },
  {
   "cell_type": "code",
   "execution_count": null,
   "metadata": {},
   "outputs": [],
   "source": [
    "split(\"Hello world!\")"
   ]
  },
  {
   "cell_type": "code",
   "execution_count": null,
   "metadata": {},
   "outputs": [],
   "source": [
    "# multiline blocks will clear up whitespace to make life nice with indentation\n",
    "my_life_story = \"\"\"\n",
    "    I was born\n",
    "       in 1935.\n",
    "    \"\"\"\n",
    "\n",
    "println(my_life_story)"
   ]
  },
  {
   "cell_type": "code",
   "execution_count": null,
   "metadata": {},
   "outputs": [],
   "source": [
    "ismutable(String)"
   ]
  },
  {
   "cell_type": "code",
   "execution_count": null,
   "metadata": {},
   "outputs": [],
   "source": [
    "println(\"A rough ASCII table\")\n",
    "println(\"Decimal\\tHex\\tCharacter\")\n",
    "for c in 0x20:0x7E\n",
    "    println(c,\"\\t\",\"0x\" * string(c,base=16),\"\\t\",Char(c))\n",
    "end"
   ]
  },
  {
   "cell_type": "markdown",
   "metadata": {},
   "source": [
    "## Regular Expressions\n",
    "\n",
    "Julia has built-in regex!"
   ]
  },
  {
   "cell_type": "code",
   "execution_count": null,
   "metadata": {},
   "outputs": [],
   "source": [
    "text = \"Julia is fun!\"\n",
    "pattern = r\"Julia\"\n",
    "occursin(pattern, text)   # true"
   ]
  },
  {
   "cell_type": "code",
   "execution_count": null,
   "metadata": {},
   "outputs": [],
   "source": [
    "text = \"Call me at 0468879289 when I'm home, or 0468879555 if I'm at work\"\n",
    "for m in eachmatch(r\"04\\d{8}\", text)\n",
    "  println(\"Found phone number $(m.match)\")\n",
    "end"
   ]
  },
  {
   "cell_type": "markdown",
   "metadata": {},
   "source": [
    "## Reading and writing files\n",
    "\n",
    "The `open` function is your primary tool, often used with `do` blocks to ensure files are automatically closed.\n",
    "\n",
    "To **write** text to a file:"
   ]
  },
  {
   "cell_type": "code",
   "execution_count": null,
   "metadata": {},
   "outputs": [],
   "source": [
    "open(\"work/my_output.txt\", \"w\") do io\n",
    "    write(io, \"Hello from Julia!\\n\")\n",
    "    write(io, \"This is a second line.\")\n",
    "end"
   ]
  },
  {
   "cell_type": "markdown",
   "metadata": {},
   "source": [
    "Here, `\"w\"` signifies \"write mode.\" If the file doesn't exist, it's created; if it does, its contents are overwritten.\n",
    "\n",
    "To **append** text to an existing file:"
   ]
  },
  {
   "cell_type": "code",
   "execution_count": null,
   "metadata": {},
   "outputs": [],
   "source": [
    "open(\"work/my_output.txt\", \"a\") do io\n",
    "    write(io, \"\\nAppending a new line.\")\n",
    "end"
   ]
  },
  {
   "cell_type": "markdown",
   "metadata": {},
   "source": [
    "The `\"a\"` mode means \"append.\" New stuff is added to the end of the file.\n",
    "\n",
    "To **read** the entire content of a file:"
   ]
  },
  {
   "cell_type": "code",
   "execution_count": null,
   "metadata": {},
   "outputs": [],
   "source": [
    "file_content = read(\"work/my_output.txt\", String)\n",
    "println(file_content)"
   ]
  },
  {
   "cell_type": "markdown",
   "metadata": {},
   "source": [
    "The `read` function with `String` as the type argument reads the whole file into a single string.\n",
    "\n",
    "For reading a file line by line, which is more memory-efficient for large files:"
   ]
  },
  {
   "cell_type": "code",
   "execution_count": null,
   "metadata": {},
   "outputs": [],
   "source": [
    "open(\"work/my_output.txt\", \"r\") do io\n",
    "    for line in eachline(io)\n",
    "        println(\"Line: \", line)\n",
    "    end\n",
    "end"
   ]
  },
  {
   "cell_type": "markdown",
   "metadata": {},
   "source": [
    "## Some extras\n",
    "\n",
    "The [Printf](https://docs.julialang.org/en/v1/stdlib/Printf/) package is built-in and provides formatted output functions similar to the C standard library.\n",
    "\n",
    "Strings are related to IO. See the [I/O and Network docs](https://docs.julialang.org/en/v1/base/io-network/). Something quite common is to use `flush(stdout)`.\n",
    "\n",
    "Sometimes when writing test code we want strings to be approximately equal. For this it is useful to use the [StringDistances.jl](https://github.com/matthieugomez/StringDistances.jl) package.\n",
    "\n",
    "Consider the [YAML.jl](https://github.com/JuliaData/YAML.jl) package for [YAML files](https://en.wikipedia.org/wiki/YAML).\n",
    "\n",
    "# Dataframes\n",
    "\n",
    "Dataframes are huge subject. The Julia [Dataframes.jl](https://github.com/JuliaData/DataFrames.jl) package provides functionality similar to [Python pandas](https://en.wikipedia.org/wiki/Pandas_(software)) or [R dataframes](https://www.geeksforgeeks.org/r-data-frames/).\n",
    "\n",
    "Let's get started"
   ]
  },
  {
   "cell_type": "code",
   "execution_count": null,
   "metadata": {},
   "outputs": [],
   "source": [
    "using DataFrames"
   ]
  },
  {
   "cell_type": "markdown",
   "metadata": {},
   "source": [
    "## Constructing DataFrames\n",
    "\n",
    "### From Column-Value Pairs\n",
    "\n",
    "The most common way to create a DataFrame is by providing column names (as symbols) and their corresponding vectors of data."
   ]
  },
  {
   "cell_type": "code",
   "execution_count": null,
   "metadata": {},
   "outputs": [],
   "source": [
    "# Create a DataFrame with two columns 'a' and 'b'\n",
    "df = DataFrame(a = [1, 2, 3], b = [2.0, 4.0, 6.0])"
   ]
  },
  {
   "cell_type": "markdown",
   "metadata": {},
   "source": [
    "Notice that Julia infers the data types for each column. Here, `a` is `Int64` and `b` is `Float64`.\n",
    "\n",
    "We can also create DataFrames using `Pairs`:"
   ]
  },
  {
   "cell_type": "code",
   "execution_count": null,
   "metadata": {},
   "outputs": [],
   "source": [
    "DataFrame(:c => [\"apple\", \"banana\", \"cherry\"], :d => [true, false, true])"
   ]
  },
  {
   "cell_type": "markdown",
   "metadata": {},
   "source": [
    "### From Dictionaries\n",
    "\n",
    "You can also construct a DataFrame from a dictionary where keys are column names (symbols or strings) and values are vectors."
   ]
  },
  {
   "cell_type": "code",
   "execution_count": null,
   "metadata": {},
   "outputs": [],
   "source": [
    "DataFrame(Dict(\n",
    "    :name => [\"Aapeli\", \"Yoni\", \"Jesse\"],\n",
    "    :age => [25, 30, 35],\n",
    "    :city => [\"New York\", \"Brisbane\", \"Berlin\"]\n",
    "))"
   ]
  },
  {
   "cell_type": "markdown",
   "metadata": {},
   "source": [
    "### From `NamedTuple`s\n",
    "\n",
    "Creating a DataFrame from a vector of `NamedTuple`s is very flexible."
   ]
  },
  {
   "cell_type": "code",
   "execution_count": null,
   "metadata": {},
   "outputs": [],
   "source": [
    "DataFrame([\n",
    "    (id = 1, value = 10.5, tag = \"A\"),\n",
    "    (id = 2, value = 20.1, tag = \"B\"),\n",
    "    (id = 3, value = 15.0, tag = \"C\")\n",
    "])"
   ]
  },
  {
   "cell_type": "markdown",
   "metadata": {},
   "source": [
    "If the `NamedTuple`s have different fields or different orders, we can use `Tables.dictcolumntable` to fill missing values with `missing`."
   ]
  },
  {
   "cell_type": "code",
   "execution_count": null,
   "metadata": {},
   "outputs": [],
   "source": [
    "DataFrame(Tables.dictcolumntable([\n",
    "    (id = 1, name = \"Julia\"),\n",
    "    (id = 2, score = 95.5),\n",
    "    (id = 3, name = \"DataFrame\", type = \"Table\")\n",
    "]))"
   ]
  },
  {
   "cell_type": "markdown",
   "metadata": {},
   "source": [
    "Notice the `?` after the types, indicating that these columns now allow `missing` values.\n",
    "\n",
    "## Column Names and Basic Information\n",
    "\n",
    "In DataFrames.jl, columns are primarily accessed using `Symbol`s."
   ]
  },
  {
   "cell_type": "code",
   "execution_count": null,
   "metadata": {},
   "outputs": [],
   "source": [
    "df = DataFrame(a = [1, 2, 3], b = [2.0, 4.0, 6.0], c = [\"x\", \"y\", \"z\"])\n",
    "\n",
    "df[:, :a]"
   ]
  },
  {
   "cell_type": "markdown",
   "metadata": {},
   "source": [
    "You can get the column names:"
   ]
  },
  {
   "cell_type": "code",
   "execution_count": null,
   "metadata": {},
   "outputs": [],
   "source": [
    "names(df)"
   ]
  },
  {
   "cell_type": "markdown",
   "metadata": {},
   "source": [
    "And column types:"
   ]
  },
  {
   "cell_type": "code",
   "execution_count": null,
   "metadata": {},
   "outputs": [],
   "source": [
    "eltype.(eachcol(df))"
   ]
  },
  {
   "cell_type": "markdown",
   "metadata": {},
   "source": [
    "### Size and Dimensions\n",
    "\n",
    "To get the dimensions of a DataFrame, similar to matrices:"
   ]
  },
  {
   "cell_type": "code",
   "execution_count": null,
   "metadata": {},
   "outputs": [],
   "source": [
    "size(df) # (rows, columns)"
   ]
  },
  {
   "cell_type": "markdown",
   "metadata": {},
   "source": [
    "You can also specify the dimension:"
   ]
  },
  {
   "cell_type": "code",
   "execution_count": null,
   "metadata": {},
   "outputs": [],
   "source": [
    "@show size(df, 1) # Number of rows\n",
    "@show size(df, 2) # Number of columns"
   ]
  },
  {
   "cell_type": "markdown",
   "metadata": {},
   "source": [
    "### Column-based Storage and Iterators\n",
    "\n",
    "DataFrames.jl stores data in a column-oriented fashion. This means each column is essentially a `Vector`.\n",
    "\n",
    "You can retrieve a column using dot syntax or indexing:"
   ]
  },
  {
   "cell_type": "code",
   "execution_count": null,
   "metadata": {},
   "outputs": [],
   "source": [
    "df.a # Access column 'a' using dot syntax\n",
    "df[!, :b] # Access column 'b' using ! (returns a view, i.e., no copy)\n",
    "df[:, :c] # Access column 'c' using :, which makes a copy"
   ]
  },
  {
   "cell_type": "markdown",
   "metadata": {},
   "source": [
    "The difference between `.` and `!` versus `:` for column retrieval is crucial for performance and understanding data manipulation."
   ]
  },
  {
   "cell_type": "code",
   "execution_count": null,
   "metadata": {},
   "outputs": [],
   "source": [
    "df.a === df[!, :a] # They refer to the same underlying data"
   ]
  },
  {
   "cell_type": "code",
   "execution_count": null,
   "metadata": {},
   "outputs": [],
   "source": [
    "df.a === df[:, :a] # The : operator creates a copy, so they are not the same object"
   ]
  },
  {
   "cell_type": "markdown",
   "metadata": {},
   "source": [
    "When you need to iterate through rows, you can use `eachrow(df)`:"
   ]
  },
  {
   "cell_type": "code",
   "execution_count": null,
   "metadata": {},
   "outputs": [],
   "source": [
    "for row in eachrow(df)\n",
    "    println(\"Row: $(row.a), $(row.b), $(row.c)\")\n",
    "end"
   ]
  },
  {
   "cell_type": "markdown",
   "metadata": {},
   "source": [
    "Each `row` here is a `DataFrameRow` object, which behaves like a `NamedTuple` for row-wise access.\n",
    "\n",
    "## Indexing and Slicing\n",
    "\n",
    "DataFrames can be indexed similar to matrices, but with the added flexibility of column names.\n",
    "\n",
    "### Positional Indexing"
   ]
  },
  {
   "cell_type": "code",
   "execution_count": null,
   "metadata": {},
   "outputs": [],
   "source": [
    "df[1, 1] # First row, first column\n",
    "df[2, :b] # Second row, column 'b'\n",
    "df[1, :] # First row (returns a DataFrameRow)\n",
    "df[:, 1] # First column (returns a Vector, view)"
   ]
  },
  {
   "cell_type": "markdown",
   "metadata": {},
   "source": [
    "### Column Selection\n",
    "\n",
    "You can select multiple columns by passing a vector of column names (symbols or strings):"
   ]
  },
  {
   "cell_type": "code",
   "execution_count": null,
   "metadata": {},
   "outputs": [],
   "source": [
    "df[:, [:a, :c]] # Select columns 'a' and 'c' (creates a new DataFrame)"
   ]
  },
  {
   "cell_type": "markdown",
   "metadata": {},
   "source": [
    "Or exclude columns using `Not`:"
   ]
  },
  {
   "cell_type": "code",
   "execution_count": null,
   "metadata": {},
   "outputs": [],
   "source": [
    "df[:, Not(:b)] # Select all columns except 'b'"
   ]
  },
  {
   "cell_type": "markdown",
   "metadata": {},
   "source": [
    "You can combine `Not` with a vector of columns:"
   ]
  },
  {
   "cell_type": "code",
   "execution_count": null,
   "metadata": {},
   "outputs": [],
   "source": [
    "df[:, Not([:a, :b])] # Select all columns except 'a' and 'b'"
   ]
  },
  {
   "cell_type": "markdown",
   "metadata": {},
   "source": [
    "### Views vs. Copies\n",
    "\n",
    "Recall the distinction between `!` and `:` for column access. This also applies to row and full DataFrame indexing.\n",
    "\n",
    "- `df[!, :colname]` returns a *view* of the column (no copy).\n",
    "- `df[:, :colname]` returns a *copy* of the column.\n",
    "- `df[!, [col1, col2]]` returns a *view* of the selected columns (a `SubDataFrame`).\n",
    "- `df[:, [col1, col2]]` returns a *copy* of the selected columns (a new `DataFrame`).\n",
    "- `df[!, row_indices, col_indices]` returns a `SubDataFrame` (view).\n",
    "- `df[row_indices, col_indices]` returns a new `DataFrame` (copy).\n",
    "\n",
    "Using views (`!`) is more memory-efficient when you don't need a separate copy of the data and want changes to the view to reflect in the original DataFrame. However, views require translating between the parent df indeces and the view indeces, which might in theory cause performance issues in edge cases.\n",
    "\n",
    "## Getting, Setting, and Mutating Data\n",
    "\n",
    "You can retrieve, set, and modify individual cells, rows, or columns.\n",
    "\n",
    "### Setting Individual Values"
   ]
  },
  {
   "cell_type": "code",
   "execution_count": null,
   "metadata": {},
   "outputs": [],
   "source": [
    "df[1, :a] = 100 # Set value at row 1, column 'a'"
   ]
  },
  {
   "cell_type": "markdown",
   "metadata": {},
   "source": [
    "### Setting Entire Columns"
   ]
  },
  {
   "cell_type": "code",
   "execution_count": null,
   "metadata": {},
   "outputs": [],
   "source": [
    "df.b = [10.0, 20.0, 30.0] # Replace column 'b'"
   ]
  },
  {
   "cell_type": "markdown",
   "metadata": {},
   "source": [
    "If the new column has a different type, it will be converted if possible, or an error will occur. If a column doesn't exist, it will be added."
   ]
  },
  {
   "cell_type": "code",
   "execution_count": null,
   "metadata": {},
   "outputs": [],
   "source": [
    "df.d = [\"alpha\", \"beta\", \"gamma\"] # Add a new column 'd'"
   ]
  },
  {
   "cell_type": "markdown",
   "metadata": {},
   "source": [
    "### Broadcasting Assignment\n",
    "\n",
    "Broadcasting (`.=`) is extremely powerful for performing element-wise operations and assignments efficiently."
   ]
  },
  {
   "cell_type": "code",
   "execution_count": null,
   "metadata": {},
   "outputs": [],
   "source": [
    "df.a .= 0 # Set all values in column 'a' to 0"
   ]
  },
  {
   "cell_type": "markdown",
   "metadata": {},
   "source": [
    "You can also use it with a scalar or a vector of compatible size:"
   ]
  },
  {
   "cell_type": "code",
   "execution_count": null,
   "metadata": {},
   "outputs": [],
   "source": [
    "df.b .= df.b * 2 # Double all values in column 'b'"
   ]
  },
  {
   "cell_type": "markdown",
   "metadata": {},
   "source": [
    "Or apply a function:"
   ]
  },
  {
   "cell_type": "code",
   "execution_count": null,
   "metadata": {},
   "outputs": [],
   "source": [
    "df.c .= uppercase.(df.c) # Convert all strings in column 'c' to uppercase"
   ]
  },
  {
   "cell_type": "markdown",
   "metadata": {},
   "source": [
    "Broadcasting assignment works with sub-selections as well:"
   ]
  },
  {
   "cell_type": "code",
   "execution_count": null,
   "metadata": {},
   "outputs": [],
   "source": [
    "df[1:2, :a] .= 99 # Set the first two values of column 'a' to 99"
   ]
  },
  {
   "cell_type": "markdown",
   "metadata": {},
   "source": [
    "# Story: Working with real data\n",
    "\n",
    "We'll now look at a more in-depth, hands-on exercise of using DataFrames.\n",
    "\n",
    "The Queensland government has an open data portal, and makes available [tide predictions at various locations](https://www.data.qld.gov.au/dataset/coastal-data-system-tide-data/resource/1311fc19-1e60-444f-b5cf-24687f1c15a7) on the state's coast. (There's some other interesting data as well at <https://www.qld.gov.au/tides>).\n",
    "\n",
    "Let's use this to do some exploration. We'll first download with the HTTP.jl package and write it to `tides.csv`"
   ]
  },
  {
   "cell_type": "code",
   "execution_count": null,
   "metadata": {},
   "outputs": [],
   "source": [
    "using HTTP\n",
    "\n",
    "response = HTTP.get(\"https://www.data.qld.gov.au/datastore/dump/1311fc19-1e60-444f-b5cf-24687f1c15a7?bom=True\")\n",
    "write(\"work/tides.csv\", response.body)"
   ]
  },
  {
   "cell_type": "markdown",
   "metadata": {},
   "source": [
    "Let's explore the first few lines"
   ]
  },
  {
   "cell_type": "code",
   "execution_count": null,
   "metadata": {},
   "outputs": [],
   "source": [
    "open(\"work/tides.csv\") do io\n",
    "    for i ∈ 1:5\n",
    "        line = readline(io)\n",
    "        println(line)\n",
    "    end\n",
    "end"
   ]
  },
  {
   "cell_type": "markdown",
   "metadata": {},
   "source": [
    "We can read it into a dataframe with `CSV.read`, and show the first few lines with `first`"
   ]
  },
  {
   "cell_type": "code",
   "execution_count": null,
   "metadata": {},
   "outputs": [],
   "source": [
    "using CSV\n",
    "\n",
    "df = CSV.read(\"work/tides.csv\", DataFrame)\n",
    "first(df, 5)"
   ]
  },
  {
   "cell_type": "markdown",
   "metadata": {},
   "source": [
    "Note the inferred datatypes, including the automatically converted `DateTime`. We can customize this"
   ]
  },
  {
   "cell_type": "code",
   "execution_count": null,
   "metadata": {},
   "outputs": [],
   "source": [
    "# we could also do\n",
    "df32 = CSV.read(\"work/tides.csv\", DataFrame; types=Dict(\"Water Level\" => Float32, \"Prediction\" => Float32, \"Residual\" => Float32, \"Latitude\" => Float32, \"Longitude\" => Float32));"
   ]
  },
  {
   "cell_type": "code",
   "execution_count": null,
   "metadata": {},
   "outputs": [],
   "source": [
    "println(\"With Float32s, we saved $(round((1-Base.summarysize(df32)/Base.summarysize(df))*100; digits=2))% memory\")"
   ]
  },
  {
   "cell_type": "markdown",
   "metadata": {},
   "source": [
    "(This is silly, don't do it in practice.)\n",
    "\n",
    "Let's look also at the last rows"
   ]
  },
  {
   "cell_type": "code",
   "execution_count": null,
   "metadata": {},
   "outputs": [],
   "source": [
    "last(df, 3)"
   ]
  },
  {
   "cell_type": "markdown",
   "metadata": {},
   "source": [
    "Here it seems that \"-99.0\" seems to mean missing. Let's see where it's coming from in the CSV"
   ]
  },
  {
   "cell_type": "code",
   "execution_count": null,
   "metadata": {},
   "outputs": [],
   "source": [
    "open(\"work/tides.csv\") do io\n",
    "    while true\n",
    "        line = readline(io)\n",
    "        if contains(line, \"-99\")\n",
    "            println(line)\n",
    "            break\n",
    "        end\n",
    "    end\n",
    "end"
   ]
  },
  {
   "cell_type": "markdown",
   "metadata": {},
   "source": [
    "We can tell `CSV.read` to mark values with \"-99.000\" as `missing`"
   ]
  },
  {
   "cell_type": "code",
   "execution_count": null,
   "metadata": {},
   "outputs": [],
   "source": [
    "df = CSV.read(\"work/tides.csv\", DataFrame; missingstring=[\"-99.000\"])\n",
    "last(df, 3)"
   ]
  },
  {
   "cell_type": "markdown",
   "metadata": {},
   "source": [
    "Note the \"?\" in water level/residual: this is DataFrames notation for columns which contain missing data.\n",
    "\n",
    "Referring to `Water Level` is a bit annoying now:"
   ]
  },
  {
   "cell_type": "code",
   "execution_count": null,
   "metadata": {},
   "outputs": [],
   "source": [
    "df[:, Symbol(\"Water Level\")]"
   ]
  },
  {
   "cell_type": "markdown",
   "metadata": {},
   "source": [
    "Let's rename it, and let's rename `DateTime` too to avoid confusion:"
   ]
  },
  {
   "cell_type": "code",
   "execution_count": null,
   "metadata": {},
   "outputs": [],
   "source": [
    "# ! means in-place\n",
    "rename!(df, Symbol(\"Water Level\") => :WaterLevel, Symbol(\"DateTime\") => :Time)\n",
    "first(df, 5)"
   ]
  },
  {
   "cell_type": "markdown",
   "metadata": {},
   "source": [
    "Drop some redundant columns"
   ]
  },
  {
   "cell_type": "code",
   "execution_count": null,
   "metadata": {},
   "outputs": [],
   "source": [
    "select!(df, [:Site, :Latitude, :Longitude, :Time, :WaterLevel, :Prediction])\n",
    "first(df, 5)"
   ]
  },
  {
   "cell_type": "markdown",
   "metadata": {},
   "source": [
    "Here is our list of columns:"
   ]
  },
  {
   "cell_type": "code",
   "execution_count": null,
   "metadata": {},
   "outputs": [],
   "source": [
    "names(df)"
   ]
  },
  {
   "cell_type": "markdown",
   "metadata": {},
   "source": [
    "Or by piping"
   ]
  },
  {
   "cell_type": "code",
   "execution_count": null,
   "metadata": {},
   "outputs": [],
   "source": [
    "df |> names"
   ]
  },
  {
   "cell_type": "markdown",
   "metadata": {},
   "source": [
    "## Getting to know our data\n",
    "\n",
    "Let's dive a bit deeper, what do we have?"
   ]
  },
  {
   "cell_type": "code",
   "execution_count": null,
   "metadata": {},
   "outputs": [],
   "source": [
    "describe(df)"
   ]
  },
  {
   "cell_type": "markdown",
   "metadata": {},
   "source": [
    "What are the site names?"
   ]
  },
  {
   "cell_type": "code",
   "execution_count": null,
   "metadata": {},
   "outputs": [],
   "source": [
    "unique(df.Site)"
   ]
  },
  {
   "cell_type": "markdown",
   "metadata": {},
   "source": [
    "A note on `String15`:"
   ]
  },
  {
   "cell_type": "code",
   "execution_count": null,
   "metadata": {},
   "outputs": [],
   "source": [
    "df.Site"
   ]
  },
  {
   "cell_type": "markdown",
   "metadata": {},
   "source": [
    "Let's group by site"
   ]
  },
  {
   "cell_type": "code",
   "execution_count": null,
   "metadata": {},
   "outputs": [],
   "source": [
    "# groupby takes a dataframe and a list of columns to group by\n",
    "by_site = groupby(df, :Site)"
   ]
  },
  {
   "cell_type": "markdown",
   "metadata": {},
   "source": [
    "This produces a grouped dataframe"
   ]
  },
  {
   "cell_type": "code",
   "execution_count": null,
   "metadata": {},
   "outputs": [],
   "source": [
    "typeof(by_site)"
   ]
  },
  {
   "cell_type": "markdown",
   "metadata": {},
   "source": [
    "What's the mean water level per site?"
   ]
  },
  {
   "cell_type": "code",
   "execution_count": null,
   "metadata": {},
   "outputs": [],
   "source": [
    "# get the mean function\n",
    "using Statistics\n",
    "\n",
    "# enter ∘ with \\circ TAB\n",
    "# combine takes the grouped df and a list of operations\n",
    "combine(by_site, :WaterLevel => mean ∘ skipmissing => :MeanWaterLevel)"
   ]
  },
  {
   "cell_type": "markdown",
   "metadata": {},
   "source": [
    "Here we applied `mean(skipmissing(...))` to the `:WaterLevel` column.\n",
    "\n",
    "Let's plot the water level at some sites"
   ]
  },
  {
   "cell_type": "code",
   "execution_count": null,
   "metadata": {},
   "outputs": [],
   "source": [
    "using Plots\n",
    "\n",
    "my_sites = [\"coombabahst\", \"russellislande\", \"rabybay\"]\n",
    "\n",
    "p = plot(\n",
    "    xlabel=\"Time\",\n",
    "    ylabel=\"Water Level\",\n",
    "    title=\"Water Level Over Time for Selected Sites\",\n",
    "    legend=:topleft\n",
    ")\n",
    "\n",
    "for group in by_site\n",
    "    site_name = group.Site[1] # Get the site name from the first row of the group\n",
    "    if site_name ∉ my_sites\n",
    "        continue\n",
    "    end\n",
    "    plot!(\n",
    "        p,\n",
    "        group.Time,\n",
    "        group.WaterLevel,\n",
    "        # Label for the legend\n",
    "        label=site_name,\n",
    "        linealpha=0.8,\n",
    "        linewidth=2\n",
    "    )\n",
    "end\n",
    "\n",
    "p"
   ]
  },
  {
   "cell_type": "markdown",
   "metadata": {},
   "source": [
    "How many data points do we have per site?"
   ]
  },
  {
   "cell_type": "code",
   "execution_count": null,
   "metadata": {},
   "outputs": [],
   "source": [
    "combine(by_site, nrow => :Count)"
   ]
  },
  {
   "cell_type": "markdown",
   "metadata": {},
   "source": [
    "Let's compute the squared residual:"
   ]
  },
  {
   "cell_type": "code",
   "execution_count": null,
   "metadata": {},
   "outputs": [],
   "source": [
    "df[!, :SqResidual] = (df.WaterLevel - df.Prediction).^2\n",
    "# or with transform\n",
    "# transform(df, [:WaterLevel, :Prediction] => ((w, p) -> (w-p).^2) => :c)"
   ]
  },
  {
   "cell_type": "markdown",
   "metadata": {},
   "source": [
    "There were some sites with fully missing water levels"
   ]
  },
  {
   "cell_type": "code",
   "execution_count": null,
   "metadata": {},
   "outputs": [],
   "source": [
    "all_missing = combine(groupby(df, :Site), :WaterLevel => (x -> all(ismissing, x)) => :IsMissing)"
   ]
  },
  {
   "cell_type": "code",
   "execution_count": null,
   "metadata": {},
   "outputs": [],
   "source": [
    "filter!(row -> row.IsMissing == false, all_missing)"
   ]
  },
  {
   "cell_type": "code",
   "execution_count": null,
   "metadata": {},
   "outputs": [],
   "source": [
    "select!(all_missing, Not(:IsMissing))"
   ]
  },
  {
   "cell_type": "code",
   "execution_count": null,
   "metadata": {},
   "outputs": [],
   "source": [
    "df_clean = innerjoin(df, all_missing, on=:Site)"
   ]
  },
  {
   "cell_type": "markdown",
   "metadata": {},
   "source": [
    "Let's compute the 90th percentile of water level per site?"
   ]
  },
  {
   "cell_type": "code",
   "execution_count": null,
   "metadata": {},
   "outputs": [],
   "source": [
    "p90(x) = quantile(x, .9)\n",
    "combine(groupby(df_clean, :Site), :WaterLevel => p90 ∘ skipmissing => :WaterLevelP90)"
   ]
  },
  {
   "cell_type": "markdown",
   "metadata": {},
   "source": [
    "Let's plot the mean square error in prediction per site"
   ]
  },
  {
   "cell_type": "code",
   "execution_count": null,
   "metadata": {},
   "outputs": [],
   "source": [
    "mse_by_site = combine(groupby(df_clean, :Site), :SqResidual => mean ∘ skipmissing => :MSE)\n",
    "\n",
    "plot(mse_by_site.Site, mse_by_site.MSE, seriestype=:bar, xrotation=45, title=\"MSE in water level prediction by site\")"
   ]
  },
  {
   "cell_type": "markdown",
   "metadata": {},
   "source": [
    "## More Transformations\n",
    "\n",
    "Here are key operations:\n",
    "\n",
    "- [`groupby`](https://dataframes.juliadata.org/stable/lib/functions/#Base.groupby) – Split a DataFrame into groups by one or more columns.\n",
    "- [`combine`](https://dataframes.juliadata.org/stable/man/split_apply_combine/#Combining-results) – Apply functions to groups or columns and combine results in a new DataFrame.\n",
    "- [`transform`](https://dataframes.juliadata.org/stable/man/getting_started/#Transforming-data) – Create or modify columns (optionally in-place).\n",
    "- [`select`](https://dataframes.juliadata.org/stable/man/getting_started/#Selecting-columns) – Select (and transform) columns, optionally creating new ones.\n",
    "\n",
    "**With [DataFramesMeta.jl](https://juliadata.github.io/DataFramesMeta.jl/stable/):**\n",
    "- [`@subset`](https://juliadata.github.io/DataFramesMeta.jl/stable/macros/#@subset) – Filter rows based on row-wise conditions.\n",
    "- [`@select`](https://juliadata.github.io/DataFramesMeta.jl/stable/macros/#@select) – Select or transform columns.\n",
    "- [`@transform`](https://juliadata.github.io/DataFramesMeta.jl/stable/macros/#@transform) – Add or modify columns by assignment.\n",
    "- [`@combine`](https://juliadata.github.io/DataFramesMeta.jl/stable/macros/#@combine) – Combine results of group operations into a DataFrame.\n",
    "\n",
    "For more, see the official [DataFrames.jl documentation](https://dataframes.juliadata.org/stable/) and the [DataFramesMeta.jl documentation](https://juliadata.github.io/DataFramesMeta.jl/stable/).\n",
    "\n",
    "There are some other great resources on the web:\n",
    "\n",
    "1. [A PumasAI tutorial](https://tutorials.pumas.ai/html/DataWranglingInJulia/05-mutating-dfmeta.html)\n",
    "1. [A UQ course tutorial](https://courses.smp.uq.edu.au/MATH2504/2025/lectures_html/lecture-unit-8.html)\n",
    "\n",
    "## More dataframes\n",
    "\n",
    "Here are the common packages in this ecosystem:\n",
    "\n",
    "* [DataFrames.jl](https://github.com/JuliaData/DataFrames.jl) - the main dataframes package.\n",
    "* [DataFramesMeta.jl](https://github.com/JuliaData/DataFramesMeta.jl) - metaprogramming tools for DataFrames.jl objects.\n",
    "* [CSV.jl](https://github.com/JuliaData/CSV.jl) - read and write to CSV files.\n",
    "* [CategoricalArrays.jl](https://github.com/JuliaData/CategoricalArrays.jl) - provides tools for working with categorical variables, both with unordered (nominal variables) and ordered categories (ordinal variables), optionally with missing values.\n",
    "* [Chain.jl](https://github.com/jkrumbiegel/Chain.jl) - provides a useful macro rewrites a series of expressions into a chain.\n",
    "* [XLSX.jl](https://github.com/felipenoris/XLSX.jl) - Excel file reader/writer for the Julia language.\n",
    "* [SummaryTables.jl](https://github.com/PumasAI/SummaryTables.jl) - creating publication-ready tables in HTML, docx, LaTeX and Typst formats.\n",
    "\n",
    "\n",
    "# JSON\n",
    "\n",
    "There are two competing [JSON](https://en.wikipedia.org/wiki/JSON) libraries: [JSON.jl](https://github.com/JuliaIO/JSON.jl) and [JSON3.jl](https://github.com/quinnj/JSON3.jl). Here is a `JSON.jl` example:"
   ]
  },
  {
   "cell_type": "code",
   "execution_count": null,
   "metadata": {},
   "outputs": [],
   "source": [
    "using HTTP\n",
    "using JSON\n",
    "\n",
    "response = HTTP.get(\"https://couchers.org/api/status\")\n",
    "data = JSON.parse(String(response.body))\n",
    "\n",
    "println(data)"
   ]
  },
  {
   "cell_type": "markdown",
   "metadata": {},
   "source": [
    "# Serialization\n",
    "\n",
    "Julia provides out of the box [serialization](https://docs.julialang.org/en/v1/stdlib/Serialization/). Here is an example. The example is slightly interesting because we also create a tree data structure. \n",
    "\n",
    "<!-- * struct (mutable & immutable)\n",
    "* write to file\n",
    "* read from file -->\n"
   ]
  },
  {
   "cell_type": "code",
   "execution_count": null,
   "metadata": {},
   "outputs": [],
   "source": [
    "using Random\n",
    "\n",
    "Random.seed!(0)\n",
    "\n",
    "struct Node\n",
    "    id::UInt16\n",
    "    friends::Vector{Node}\n",
    "\n",
    "    # inner constructor, uses the default constructor\n",
    "    Node() = new(rand(UInt16), [])\n",
    "    # another inner constructor\n",
    "    Node(friend::Node) = new(rand(UInt16),[friend])\n",
    "end"
   ]
  },
  {
   "cell_type": "code",
   "execution_count": null,
   "metadata": {},
   "outputs": [],
   "source": [
    "\"\"\"\n",
    "Makes `n` children to node, each with a single friend\n",
    "\"\"\"\n",
    "function make_children(node::Node, n::Int, friend::Node)\n",
    "    for _ in 1:n\n",
    "        new_node = Node(friend)\n",
    "        push!(node.friends, new_node)\n",
    "    end\n",
    "end;"
   ]
  },
  {
   "cell_type": "code",
   "execution_count": null,
   "metadata": {},
   "outputs": [],
   "source": [
    "# make a tree\n",
    "root = Node()\n",
    "make_children(root, 3, root)\n",
    "for node in root.friends\n",
    "    make_children(node, 2,root)\n",
    "end\n",
    "\n",
    "root"
   ]
  },
  {
   "cell_type": "markdown",
   "metadata": {},
   "source": [
    "Note that when we try to show `root`, it's complete gibberish. We can write a `Base.show()` function to make this pretty:"
   ]
  },
  {
   "cell_type": "code",
   "execution_count": null,
   "metadata": {},
   "outputs": [],
   "source": [
    "# make it show up pretty\n",
    "function Base.show(io::IO, x::Node)\n",
    "    shown = Set{Node}()\n",
    "    function recursive_show(y::Node, depth::Int)\n",
    "        print(io, \"  \"^depth*\"Node: $(y.id)\")\n",
    "        if y in shown\n",
    "            println(io, \" (already shown)\")\n",
    "        else\n",
    "            push!(shown, y)\n",
    "            println(io, \", friends:\")\n",
    "            for f in y.friends\n",
    "                recursive_show(f, depth+1)\n",
    "            end\n",
    "        end\n",
    "    end\n",
    "    recursive_show(x, 0)\n",
    "    return nothing\n",
    "end\n",
    "\n",
    "root"
   ]
  },
  {
   "cell_type": "markdown",
   "metadata": {},
   "source": [
    "Suppose we now want to save this in a file..."
   ]
  },
  {
   "cell_type": "code",
   "execution_count": null,
   "metadata": {},
   "outputs": [],
   "source": [
    "using Serialization\n",
    "serialize(\"work/tree.dat\", root)"
   ]
  },
  {
   "cell_type": "code",
   "execution_count": null,
   "metadata": {},
   "outputs": [],
   "source": [
    "newroot = deserialize(\"work/tree.dat\")"
   ]
  },
  {
   "cell_type": "markdown",
   "metadata": {},
   "source": [
    "# Additional online resources\n",
    "\n",
    "* Basic blog post about [Tuples and Vectors, Allocations and Performance for Beginners\n",
    "](https://jkrumbiegel.com/pages/2020-10-31-tuples-and-vectors/).\n",
    "* This [introductory post](https://blog.glcs.io/staticarrays) covers [StaticArrays.jl](https://github.com/JuliaArrays/StaticArrays.jl) which is a popular library used in many numerical packages.\n",
    "* The book @storopolihuijzeralonso2021juliadatascience is a good resource for DataFrames.  \n",
    "* A paper about `DataFrames.jl` made it into the Journal of Statistical Software, @bouchet2023dataframes.\n",
    "* A nice \"cheatsheet\" for dataframes [here](https://www.ahsmart.com/assets/pages/data-wrangling-with-data-frames-jl-cheat-sheet/DataFramesCheatSheet_v1.x_rev1.pdf).\n",
    "* The book @kaminski2023julia is also written by the main creator of `DataFrames.jl`.\n",
    "* This [Pumas `DataFramesMeta.jl` tutorial](https://tutorials.pumas.ai/html/DataWranglingInJulia/05-mutating-dfmeta.html) is useful.\n",
    "* See this [Hacker News](https://news.ycombinator.com/item?id=29360221) discussion around [JSON.jl](https://github.com/JuliaIO/JSON.jl) and [JSON3.jl](https://github.com/quinnj/JSON3.jl).\n",
    "* This unit used many macros. The proper documentation is [here](https://docs.julialang.org/en/v1/manual/metaprogramming/). This [blog post](https://jkrumbiegel.com/pages/2021-06-07-macros-for-beginners/) is an elementary introduction.\n",
    "\n",
    "# Exercises\n",
    "\n",
    "1. You have this dictionary:\n",
    "```\n",
    "        country_capital = Dict(\n",
    "                                \"France\" => \"Paris\",\n",
    "                                \"Germany\" => \"Berlin\",\n",
    "                                \"Italy\" => \"Rome\",\n",
    "                                \"Spain\" => \"Madrid\")\n",
    "```\n",
    "Now create a new dictionary, `capital_country` where the keys are the capital cities and the values are the country names.\n",
    "\n",
    "2. Looking up with the `in` or `∈` symbol is possible both in an array and a set. You can create an array with `rand(1:10^10, 10^7)` which will have $10^7$ entries, selected from the numbers $1,\\ldots,10^{10}$. You can also wrap this to create a set. Now compare lookup timings with `@time` or `@btime` (from BenchmarkTools.jl) for lookup to see if a single `rand(1:10^10)` is an element of the set.\n",
    "2. Given the string `text = \"Julia is a high-level, high-performance programming language.\"`, write Julia code to count how many times the substring \"high\" appears in the text (case-insensitive).\n",
    "2. Install the `Rdatasets.jl` package. Then load the \"iris\" dataset. Then, filter the DataFrame to only include rows where the SepalLength is greater than its mean, and display the first five rows of the result.\n",
    "2. Load the \"mtcars\" dataset from `RDatasets`. Then, group the data by the `Cyl` (number of cylinders) column and compute the average `MPG` (miles per gallon) for each group. Display the resulting summary DataFrame.\n",
    "2. Consider this JSON file (put it in a string):\n",
    "```\n",
    "                {\n",
    "                  \"name\": \"Alice\",\n",
    "                  \"age\": 30,\n",
    "                  \"skills\": [\"Julia\", \"Python\", \"SQL\"]\n",
    "                }\n",
    "```\n",
    "Given the JSON string above, write Julia code to parse it and print the person's name and the number of skills they have.\n",
    "\n",
    "7. Create an array of $10^6$ random `Float64` (you can use `rand(Float64, 3)`). Then serialize and inspect the file size. See it makes sense with `sizeof(Float64)`. Now do the same with `Float16`, `Float32`, `UInt8`, and another type of your choice.\n"
   ]
  }
 ],
 "metadata": {
  "kernelspec": {
   "display_name": "julia-two 1.11.5",
   "language": "julia",
   "name": "julia-two-1.11"
  },
  "language_info": {
   "file_extension": ".jl",
   "mimetype": "application/julia",
   "name": "julia",
   "version": "1.11.5"
  }
 },
 "nbformat": 4,
 "nbformat_minor": 4
}
